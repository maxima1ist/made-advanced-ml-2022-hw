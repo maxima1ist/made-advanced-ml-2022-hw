{
 "cells": [
  {
   "cell_type": "code",
   "execution_count": 1,
   "metadata": {},
   "outputs": [],
   "source": [
    "import numpy as np\n",
    "import random\n",
    "import collections as coll"
   ]
  },
  {
   "cell_type": "markdown",
   "metadata": {},
   "source": [
    "1."
   ]
  },
  {
   "cell_type": "code",
   "execution_count": 2,
   "metadata": {},
   "outputs": [],
   "source": [
    "file1 = open(\"WarAndPeace.txt\", encoding=\"utf8\")\n",
    "data1 = file1.read().replace('\\n', ' ')"
   ]
  },
  {
   "cell_type": "code",
   "execution_count": 3,
   "metadata": {},
   "outputs": [],
   "source": [
    "file2 = open(\"AnnaKarenina.txt\", encoding=\"utf8\")\n",
    "data2 = file2.read().replace('\\n', ' ')"
   ]
  },
  {
   "cell_type": "code",
   "execution_count": 4,
   "metadata": {},
   "outputs": [],
   "source": [
    "alphabet = \" абвгдеёжзийклмнопрстуфхцчшщъыьэюя\"\n",
    "\n",
    "def modify_data(data):\n",
    "    new_data = \"\"\n",
    "    for letter in data.lower():\n",
    "        if letter in alphabet:\n",
    "            new_data += letter\n",
    "    return new_data"
   ]
  },
  {
   "cell_type": "code",
   "execution_count": 5,
   "metadata": {},
   "outputs": [],
   "source": [
    "data1 = modify_data(data1)\n",
    "data2 = modify_data(data2)"
   ]
  },
  {
   "cell_type": "code",
   "execution_count": 6,
   "metadata": {},
   "outputs": [],
   "source": [
    "def frequency_dictionary(data, frequency):\n",
    "    frequency_dictionary = coll.Counter()\n",
    "    for i in range(0, len(data) - 1):\n",
    "        frequency_dictionary[data[i:i + frequency]] += 1\n",
    "        \n",
    "    frequency_dictionary = sorted(dict(frequency_dictionary).items(), key=lambda x: x[1], reverse = True)\n",
    "    \n",
    "    normal_frequency_dictionary = {}\n",
    "    data_len = len(data)\n",
    "    for key, value in frequency_dictionary:\n",
    "        normal_frequency_dictionary[key] = value / data_len\n",
    "        \n",
    "    return normal_frequency_dictionary"
   ]
  },
  {
   "cell_type": "code",
   "execution_count": 7,
   "metadata": {},
   "outputs": [],
   "source": [
    "frequency_dictionary_data1 = frequency_dictionary(data1, 1)\n",
    "frequency_dictionary_data2 = frequency_dictionary(data2, 1)"
   ]
  },
  {
   "cell_type": "code",
   "execution_count": 8,
   "metadata": {
    "scrolled": false
   },
   "outputs": [
    {
     "data": {
      "text/plain": [
       "{' ': 0.17873405534032794,\n",
       " 'о': 0.09335919111654131,\n",
       " 'а': 0.06887300791729573,\n",
       " 'е': 0.06477496568460918,\n",
       " 'и': 0.0545968912769591,\n",
       " 'н': 0.053501540955285636,\n",
       " 'т': 0.046646079971237535,\n",
       " 'с': 0.04285120145762335,\n",
       " 'л': 0.04155475761375114,\n",
       " 'в': 0.037817769659557805,\n",
       " 'р': 0.037430816972902646,\n",
       " 'к': 0.029444966644373724,\n",
       " 'д': 0.02496454203235473,\n",
       " 'м': 0.024283566241272616,\n",
       " 'у': 0.023543176454995422,\n",
       " 'п': 0.021095015165803133,\n",
       " 'я': 0.019007908155104045,\n",
       " 'г': 0.017027441648601257,\n",
       " 'ь': 0.01599302875789711,\n",
       " 'ы': 0.01558931827772539,\n",
       " 'з': 0.014628030304184421,\n",
       " 'б': 0.01418318705810841,\n",
       " 'ч': 0.01119572950483767,\n",
       " 'й': 0.009460536157986383,\n",
       " 'ж': 0.0083179593273117,\n",
       " 'ш': 0.007754288090845522,\n",
       " 'х': 0.007007804561471395,\n",
       " 'ю': 0.005324408030944028,\n",
       " 'ц': 0.0033195665520535152,\n",
       " 'э': 0.0024816768762254138,\n",
       " 'щ': 0.0023064817621886286,\n",
       " 'ф': 0.0018418338510475907,\n",
       " 'ё': 0.0006566008186943851,\n",
       " 'ъ': 0.0004311323241079141}"
      ]
     },
     "execution_count": 8,
     "metadata": {},
     "output_type": "execute_result"
    }
   ],
   "source": [
    "frequency_dictionary_data1"
   ]
  },
  {
   "cell_type": "code",
   "execution_count": 9,
   "metadata": {},
   "outputs": [
    {
     "data": {
      "text/plain": [
       "{' ': 0.17910812333922474,\n",
       " 'о': 0.0944538757383889,\n",
       " 'е': 0.0719124047007973,\n",
       " 'а': 0.06810538002492653,\n",
       " 'н': 0.05707570954251148,\n",
       " 'и': 0.05459526954211601,\n",
       " 'т': 0.049224375426371064,\n",
       " 'с': 0.04369063882525431,\n",
       " 'л': 0.041242185741628294,\n",
       " 'в': 0.03871114825470658,\n",
       " 'р': 0.03273657378247617,\n",
       " 'к': 0.028183381575419626,\n",
       " 'д': 0.024212351253567268,\n",
       " 'м': 0.023569705016653553,\n",
       " 'у': 0.022175075445505052,\n",
       " 'п': 0.019827817334931518,\n",
       " 'я': 0.017705630802354006,\n",
       " 'ь': 0.016198756232359942,\n",
       " 'ы': 0.015245546112630005,\n",
       " 'г': 0.014942542773777474,\n",
       " 'б': 0.014375501976500666,\n",
       " 'ч': 0.013875342914287277,\n",
       " 'з': 0.013446718229576498,\n",
       " 'ж': 0.009316916484486636,\n",
       " 'й': 0.008643446491413258,\n",
       " 'ш': 0.007018511119524639,\n",
       " 'х': 0.006389241229623607,\n",
       " 'ю': 0.00512488564677255,\n",
       " 'э': 0.0029189515502895396,\n",
       " 'щ': 0.002357726556061724,\n",
       " 'ц': 0.0023222501574628675,\n",
       " 'ф': 0.0010357945230256367,\n",
       " 'ъ': 0.00023961108561850773,\n",
       " 'ё': 1.802898945187801e-05}"
      ]
     },
     "execution_count": 9,
     "metadata": {},
     "output_type": "execute_result"
    }
   ],
   "source": [
    "frequency_dictionary_data2"
   ]
  },
  {
   "cell_type": "code",
   "execution_count": 10,
   "metadata": {},
   "outputs": [],
   "source": [
    "def encode(data, frequency):\n",
    "    freq_dict = frequency_dictionary(data, frequency)\n",
    "    keys = list(freq_dict.keys())\n",
    "    rand_keys = keys.copy()\n",
    "    random.shuffle(rand_keys)\n",
    "    \n",
    "    encode_dictionary = {}\n",
    "    for i in range(len(rand_keys)):\n",
    "        encode_dictionary[keys[i]] = rand_keys[i]\n",
    "        \n",
    "    encoded_data = ''\n",
    "    for i in range(len(data) - frequency + 1):\n",
    "        encoded_data += encode_dictionary[data[i:i + frequency]]\n",
    "    return encoded_data"
   ]
  },
  {
   "cell_type": "code",
   "execution_count": 11,
   "metadata": {},
   "outputs": [],
   "source": [
    "def decode(data, frequency_list, frequency):\n",
    "    freq_dict = frequency_dictionary(data, frequency)\n",
    "    keys = list(freq_dict.keys())\n",
    "    \n",
    "    decode_dictionary = {}\n",
    "    for i in range(min(len(freq_dict),len(frequency_list))):\n",
    "        decode_dictionary[keys[i]] = frequency_list[i]\n",
    "    \n",
    "    decode_data = ''\n",
    "    for i in range(len(data) - frequency + 1):\n",
    "        if data[i:i + frequency] in decode_dictionary.keys():\n",
    "            decode_data += decode_dictionary[data[i:i + frequency]]\n",
    "        else:\n",
    "            decode_data += str('*' * frequency)\n",
    "    return decode_data"
   ]
  },
  {
   "cell_type": "code",
   "execution_count": 12,
   "metadata": {},
   "outputs": [],
   "source": [
    "def text_accuracy(y, pred):\n",
    "    good = 0\n",
    "    for i in range(len(y)):\n",
    "        if y[i] == pred[i]:\n",
    "            good += 1\n",
    "    return good / len(y)\n",
    "\n",
    "def decode_process(data, frequency_dict, frequency):\n",
    "    decode_data = decode(encode(data, frequency), list(frequency_dict.keys()), frequency)\n",
    "    print(data[:200])\n",
    "    print(decode_data[:200])\n",
    "    print(round(text_accuracy(data, decode_data) * 100, 2))\n",
    "    return decode_data"
   ]
  },
  {
   "cell_type": "code",
   "execution_count": 13,
   "metadata": {
    "scrolled": true
   },
   "outputs": [
    {
     "name": "stdout",
     "output_type": "stream",
     "text": [
      "   война и мир  самый известный роман льва николаевича толстого как никакое другое произведение писателя отражает глубину его мироощущения и философииэта книга из разряда вечных потому что она обо все\n",
      "   вожие н мнр  семгж нбвастигж ромеи лыве инколеавнзе толстоьо кек инкекоа друьоа пронбвадаина пнсеталя отрейеат ьлучниу аьо мнрооцуцаиня н фнлософннщте кинье нб ребряде вазигх потому зто оие очо вса\n",
      "64.27\n"
     ]
    }
   ],
   "source": [
    "decode_data = decode_process(data1, frequency_dictionary_data2, 1)"
   ]
  },
  {
   "cell_type": "markdown",
   "metadata": {},
   "source": [
    "2."
   ]
  },
  {
   "cell_type": "code",
   "execution_count": 14,
   "metadata": {},
   "outputs": [
    {
     "name": "stdout",
     "output_type": "stream",
     "text": [
      "   война и мир  самый известный роман льва николаевича толстого как никакое другое произведение писателя отражает глубину его мироощущения и философииэта книга из разряда вечных потому что она обо все\n",
      "    с**************д**н**я**а****************** **иь********************я******************ы**********************************************************н**л**ь******фжч**************************н****цр*\n",
      "0.56\n"
     ]
    }
   ],
   "source": [
    "decode_data = decode_process(data1, frequency_dictionary_data2, 2)"
   ]
  },
  {
   "cell_type": "markdown",
   "metadata": {},
   "source": [
    "3."
   ]
  },
  {
   "cell_type": "code",
   "execution_count": 15,
   "metadata": {},
   "outputs": [],
   "source": [
    "def likelihood_log(data, permutation, transitions_matrix, embeddings):\n",
    "    data = data.translate(str.maketrans(alphabet, ''.join(permutation)))\n",
    "    \n",
    "    likelihood = 0\n",
    "    for i in range(len(data) - 1):\n",
    "        likelihood += transitions_matrix[embeddings[data[i]], embeddings[data[i+1]]]\n",
    "    \n",
    "    return likelihood\n",
    "\n",
    "def mcmc(data, data_for_train, iters):\n",
    "    embeddings = {c: i for i, c in enumerate(alphabet)}\n",
    "    \n",
    "    emb_len = len(embeddings)\n",
    "    transitions_matrix = np.zeros((emb_len, emb_len))\n",
    "    for i in range(len(data_for_train) - 1):\n",
    "        transitions_matrix[embeddings[data_for_train[i]], embeddings[data_for_train[i + 1]]] += 1\n",
    "        \n",
    "    transitions_matrix = np.clip(transitions_matrix, 1, None)\n",
    "    transitions_matrix = (np.log(transitions_matrix).T - np.log(transitions_matrix.sum(axis=1))).T\n",
    "    \n",
    "    permutation = np.array(list(alphabet))\n",
    "    random.shuffle(permutation)\n",
    "    permutation_best = permutation.copy()\n",
    "    \n",
    "    log_likelihood = likelihood_log(data, permutation, transitions_matrix, embeddings)\n",
    "    log_likelihood_best = log_likelihood\n",
    "    \n",
    "    for i in range(iters):\n",
    "        swapped = random.sample(range(len(alphabet)), 2)\n",
    "        permutation[swapped[0]], permutation[swapped[1]] = permutation[swapped[1]], permutation[swapped[0]]\n",
    "        \n",
    "        log_likelihood_current = likelihood_log(data, permutation, transitions_matrix, embeddings)\n",
    "        \n",
    "        if log_likelihood_current < log_likelihood:\n",
    "            delta = np.exp(log_likelihood_current - log_likelihood)\n",
    "            if delta < random.random():\n",
    "                permutation[swapped[0]], permutation[swapped[1]] = permutation[swapped[1]], permutation[swapped[0]]\n",
    "            else:\n",
    "                log_likelihood = log_likelihood_current\n",
    "        else:\n",
    "            log_likelihood = log_likelihood_current\n",
    "            if log_likelihood_current > log_likelihood_best:\n",
    "                permutation_best = permutation.copy()\n",
    "                log_likelihood_best = log_likelihood_current\n",
    "                \n",
    "    return data.translate(str.maketrans(alphabet, ''.join(permutation_best)))"
   ]
  },
  {
   "cell_type": "code",
   "execution_count": 16,
   "metadata": {},
   "outputs": [],
   "source": [
    "encode_data = encode(data2, 1)[:1000]\n",
    "decode_data = mcmc(encode_data, data1, 100000)"
   ]
  },
  {
   "cell_type": "code",
   "execution_count": 17,
   "metadata": {
    "scrolled": true
   },
   "outputs": [
    {
     "name": "stdout",
     "output_type": "stream",
     "text": [
      "лллюяяюлцюейяряюлфпрялрвлнюымжлвяюыйяркмжлефыюяфхлш хюлкфшнкфгфляюёряюйкнолнкюхийблюьфервыфыльеювфблхнйлнёюнкшрхмйлнйы рлуфжфэрлпезгляюлпезгюлцюэпюоляйнёюнкшрхюолнйы оляйнёюнкшрхюлуфнхфйызлщкфлцяргюлф\n",
      "   анна каренина один из самых знаменитых романов льва толстого начинается ставшей афоризмом фразой все счастливые семьи похожи друг на друга каждая несчастливая семья несчастлива посвоему это книга о\n",
      "100.0\n"
     ]
    }
   ],
   "source": [
    "print(encode_data[:200])\n",
    "print(decode_data[:200])\n",
    "print(round(text_accuracy(data2[:1000], decode_data) * 100, 2))"
   ]
  },
  {
   "cell_type": "markdown",
   "metadata": {},
   "source": [
    "4."
   ]
  },
  {
   "cell_type": "code",
   "execution_count": 20,
   "metadata": {},
   "outputs": [],
   "source": [
    "data = 'დჳჵჂႨშႼႨშჂხჂჲდႨსႹႭჾႣჵისႼჰႨჂჵჂႨႲႹႧჲჂႨსႹႭჾႣჵისႼჰႨჲდႩჳჲႨჇႨႠჲႹქႹႨჳႹႹჱჶდსჂႽႨႩႹჲႹႭႼჰႨჵდქႩႹႨႲႭႹႧჂჲႣჲიႨჳႩႹႭდდႨშჳდქႹႨშႼႨშჳდႨჳხდჵႣჵჂႨႲႭႣშჂჵისႹႨჂႨႲႹჵჇႧჂჲდႨჾႣႩჳჂჾႣჵისႼჰႨჱႣჵჵႨეႣႨႲႹჳჵდხსდდႨႧდჲშდႭჲႹდႨეႣხႣსჂდႨႩჇႭჳႣႨႾႹჲႽႨႩႹსდႧსႹႨႽႨსჂႧდქႹႨსდႨႹჱდჶႣნ'\n",
    "\n",
    "str1 = ''.join(set(data))\n",
    "\n",
    "convert_data = []\n",
    "for i in list(frequency_dictionary_data1.keys()):\n",
    "    if i in alphabet:\n",
    "        convert_data.append(i)\n",
    "str2 = ''.join(convert_data[:len(set(data))])\n",
    "\n",
    "data = data.translate(str.maketrans(str1, str2))\n",
    "decode_data = mcmc(data, data1 + data2, 1000000)"
   ]
  },
  {
   "cell_type": "code",
   "execution_count": 21,
   "metadata": {},
   "outputs": [
    {
     "data": {
      "text/plain": [
       "'если вы вимите нордальный или почти нордальный текст у этого сообщения который легко прочитать скорее всего вы все смелали правильно и получите даксидальный балл за послемнее четвертое замание курса хотя конечно я ничего не обещаж'"
      ]
     },
     "execution_count": 21,
     "metadata": {},
     "output_type": "execute_result"
    }
   ],
   "source": [
    "decode_data"
   ]
  },
  {
   "cell_type": "code",
   "execution_count": null,
   "metadata": {},
   "outputs": [],
   "source": []
  }
 ],
 "metadata": {
  "kernelspec": {
   "display_name": "Python 3",
   "language": "python",
   "name": "python3"
  },
  "language_info": {
   "codemirror_mode": {
    "name": "ipython",
    "version": 3
   },
   "file_extension": ".py",
   "mimetype": "text/x-python",
   "name": "python",
   "nbconvert_exporter": "python",
   "pygments_lexer": "ipython3",
   "version": "3.8.5"
  }
 },
 "nbformat": 4,
 "nbformat_minor": 4
}
