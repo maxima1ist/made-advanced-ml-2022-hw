{
 "cells": [
  {
   "cell_type": "code",
   "execution_count": 1,
   "metadata": {
    "id": "Bj19p2cnZ2Vq"
   },
   "outputs": [],
   "source": [
    "import pickle\n",
    "import pandas as pd\n",
    "import json"
   ]
  },
  {
   "cell_type": "code",
   "execution_count": 2,
   "metadata": {
    "colab": {
     "base_uri": "https://localhost:8080/"
    },
    "id": "N4KAUYjgaKCO",
    "outputId": "65b39465-204c-4d20-b604-5309584844aa",
    "scrolled": true
   },
   "outputs": [
    {
     "name": "stdout",
     "output_type": "stream",
     "text": [
      "            id       name  patronymic    surname\n",
      "1            1    Алексей        None   Абабилов\n",
      "10          10      Игорь                 Абалов\n",
      "11          11    Наталья     Юрьевна  Абалымова\n",
      "12          12      Артур  Евгеньевич    Абальян\n",
      "13          13       Эрик  Евгеньевич    Абальян\n",
      "...        ...        ...         ...        ...\n",
      "224700  224700      Артём  Евгеньевич      Садов\n",
      "224701  224701     Даниил    Олегович   Трефилов\n",
      "224702  224702   Владимир  Араратович   Басенцян\n",
      "224703  224703     Руслан   Ринатович   Дауранов\n",
      "224704  224704  Александр  Викторович    Гапонов\n",
      "\n",
      "[204063 rows x 4 columns]\n"
     ]
    }
   ],
   "source": [
    "players_dict = {}\n",
    "with open('data/players.pkl', 'rb') as f:\n",
    "    players_dict = pickle.load(f)\n",
    "\n",
    "players_df = pd.DataFrame(players_dict).transpose()\n",
    "print(players_df)"
   ]
  },
  {
   "cell_type": "code",
   "execution_count": 3,
   "metadata": {},
   "outputs": [
    {
     "name": "stdout",
     "output_type": "stream",
     "text": [
      "        id                                               name  \\\n",
      "1        1                           Чемпионат Южного Кавказа   \n",
      "2        2                                        Летние зори   \n",
      "3        3                                   Турнир в Ижевске   \n",
      "4        4                 Чемпионат Украины. Переходной этап   \n",
      "5        5                                Бостонское чаепитие   \n",
      "...    ...                                                ...   \n",
      "6481  6481  Онлайн: 15:00 (а)Синхрон-lite. Лига старта. Эп...   \n",
      "6482  6482                          Онлайн: 19:00 Зелёный шум   \n",
      "6483  6483  Онлайн: 19:00 (а)Синхрон-lite. Лига старта. Эп...   \n",
      "6484  6484      Онлайн: 22:00 Не числом, а умением - 2 (NEW!)   \n",
      "6485  6485                 Онлайн: 19:00 Не числом, а умением   \n",
      "\n",
      "                      dateStart                    dateEnd  \\\n",
      "1     2003-07-25T00:00:00+04:00  2003-07-27T00:00:00+04:00   \n",
      "2     2003-08-09T00:00:00+04:00  2003-08-09T00:00:00+04:00   \n",
      "3     2003-11-22T00:00:00+03:00  2003-11-24T00:00:00+03:00   \n",
      "4     2003-10-11T00:00:00+04:00  2003-10-12T00:00:00+04:00   \n",
      "5     2003-10-10T00:00:00+04:00  2003-10-13T00:00:00+04:00   \n",
      "...                         ...                        ...   \n",
      "6481  2020-05-05T15:00:00+03:00  2020-05-05T18:00:00+03:00   \n",
      "6482  2020-05-07T19:00:00+03:00  2020-05-07T21:30:00+03:00   \n",
      "6483  2020-05-08T19:00:00+03:00  2020-05-08T21:30:00+03:00   \n",
      "6484  2020-05-04T22:00:00+03:00  2020-05-04T23:40:00+03:00   \n",
      "6485  2020-05-06T19:00:00+03:00  2020-05-06T20:45:00+03:00   \n",
      "\n",
      "                              type       season  \\\n",
      "1     {'id': 2, 'name': 'Обычный'}   /seasons/1   \n",
      "2     {'id': 2, 'name': 'Обычный'}   /seasons/1   \n",
      "3     {'id': 2, 'name': 'Обычный'}   /seasons/2   \n",
      "4     {'id': 2, 'name': 'Обычный'}   /seasons/2   \n",
      "5     {'id': 2, 'name': 'Обычный'}   /seasons/2   \n",
      "...                            ...          ...   \n",
      "6481  {'id': 2, 'name': 'Обычный'}  /seasons/53   \n",
      "6482  {'id': 2, 'name': 'Обычный'}  /seasons/53   \n",
      "6483  {'id': 2, 'name': 'Обычный'}  /seasons/53   \n",
      "6484  {'id': 2, 'name': 'Обычный'}  /seasons/53   \n",
      "6485  {'id': 2, 'name': 'Обычный'}  /seasons/53   \n",
      "\n",
      "                                           orgcommittee synchData  \\\n",
      "1                                                    []      None   \n",
      "2                                                    []      None   \n",
      "3                                                    []      None   \n",
      "4                                                    []      None   \n",
      "5                                                    []      None   \n",
      "...                                                 ...       ...   \n",
      "6481  [{'id': 7533, 'name': 'Денис', 'patronymic': '...      None   \n",
      "6482  [{'id': 7533, 'name': 'Денис', 'patronymic': '...      None   \n",
      "6483  [{'id': 7533, 'name': 'Денис', 'patronymic': '...      None   \n",
      "6484  [{'id': 7533, 'name': 'Денис', 'patronymic': '...      None   \n",
      "6485  [{'id': 7533, 'name': 'Денис', 'patronymic': '...      None   \n",
      "\n",
      "                      questionQty  \n",
      "1                            None  \n",
      "2                            None  \n",
      "3                            None  \n",
      "4                            None  \n",
      "5                            None  \n",
      "...                           ...  \n",
      "6481  {'1': 12, '2': 12, '3': 12}  \n",
      "6482  {'1': 13, '2': 13, '3': 13}  \n",
      "6483  {'1': 12, '2': 12, '3': 12}  \n",
      "6484           {'1': 12, '2': 12}  \n",
      "6485           {'1': 12, '2': 12}  \n",
      "\n",
      "[5528 rows x 9 columns]\n"
     ]
    }
   ],
   "source": [
    "tournaments_dict = {}\n",
    "with open('data/tournaments.pkl', 'rb') as f:\n",
    "    tournaments_dict = pickle.load(f)\n",
    "\n",
    "tournaments_df = pd.DataFrame(tournaments_dict).transpose()\n",
    "print(tournaments_df)"
   ]
  },
  {
   "cell_type": "code",
   "execution_count": 4,
   "metadata": {
    "colab": {
     "base_uri": "https://localhost:8080/",
     "height": 197
    },
    "id": "wQimwPhRpRyI",
    "outputId": "06d0e476-6c83-41c9-dd51-6c85e0f0dd76"
   },
   "outputs": [],
   "source": [
    "results_dict = {}\n",
    "with open('data/results.pkl', 'rb') as f:\n",
    "    results_dict = pickle.load(f)"
   ]
  },
  {
   "cell_type": "code",
   "execution_count": 5,
   "metadata": {},
   "outputs": [],
   "source": [
    "valid_train_results = {}\n",
    "for i, tournament in tournaments_df.iterrows():\n",
    "    if not tournament.empty and tournament['dateStart'] != None:\n",
    "        if int(tournament['dateStart'][:4]) == 2019:\n",
    "            valid_participants = []\n",
    "            for participant in results_dict[i]:\n",
    "                if participant:\n",
    "                    if 'mask' in participant and participant['mask']:\n",
    "                        if 'teamMembers' in participant and participant['teamMembers']:\n",
    "                            valid_participants.append(participant)\n",
    "            if valid_participants:\n",
    "                valid_train_results[i] = valid_participants"
   ]
  },
  {
   "cell_type": "code",
   "execution_count": 6,
   "metadata": {
    "id": "ppEvHgIdaVQ_"
   },
   "outputs": [],
   "source": [
    "valid_test_results = {}\n",
    "for i, tournament in tournaments_df.iterrows():\n",
    "    if not tournament.empty and tournament['dateStart'] != None:\n",
    "        if int(tournament['dateStart'][:4]) == 2020:\n",
    "            valid_participants = []\n",
    "            for participant in results_dict[i]:\n",
    "                if participant:\n",
    "                    if 'mask' in participant and participant['mask']:\n",
    "                        if 'teamMembers' in participant and participant['teamMembers']:\n",
    "                            valid_participants.append(participant)\n",
    "            if valid_participants:\n",
    "                valid_test_results[i] = valid_participants"
   ]
  },
  {
   "cell_type": "code",
   "execution_count": 7,
   "metadata": {},
   "outputs": [],
   "source": [
    "with open('data/valid_train_results.json', 'w') as fin:\n",
    "    json.dump(valid_train_results, fin)"
   ]
  },
  {
   "cell_type": "code",
   "execution_count": 8,
   "metadata": {},
   "outputs": [],
   "source": [
    "with open('data/valid_test_results.json', 'w') as fin:\n",
    "    json.dump(valid_test_results, fin)"
   ]
  },
  {
   "cell_type": "code",
   "execution_count": 9,
   "metadata": {},
   "outputs": [],
   "source": [
    "x_train = pd.DataFrame(columns = ['player_id', 'tournament_id','question_id', 'team_id'])\n",
    "y_train = pd.DataFrame(columns = ['hit'])\n",
    "\n",
    "x_test = pd.DataFrame(columns = ['player_id', 'tournament_id', 'question_id', 'team_id'])\n",
    "y_test = pd.DataFrame(columns = ['hit'])"
   ]
  },
  {
   "cell_type": "code",
   "execution_count": 10,
   "metadata": {
    "scrolled": false
   },
   "outputs": [],
   "source": [
    "file_x_train = open('data/x_train.csv', 'w')\n",
    "file_x_train.write('player_id,tournament_id,question_id\\n')\n",
    "\n",
    "file_y_train = open('data/y_train.csv', 'w')\n",
    "file_y_train.write('hit\\n')\n",
    "\n",
    "for tournament_id in valid_train_results:\n",
    "    tournament = valid_train_results[tournament_id]\n",
    "    for team in tournament:\n",
    "        team_id = team['team']['id']\n",
    "        for teammate in team['teamMembers']:\n",
    "            player_id = teammate['player']['id']\n",
    "            for question_id in range(1, len(team['mask']) + 1):\n",
    "                file_x_train.write(str(player_id) + ',' + str(tournament_id) + ',' + str(question_id) + ',' + str(team_id) + '\\n')\n",
    "                file_y_train.write(team['mask'][question_id - 1] + '\\n')\n",
    "\n",
    "file_x_train.close()\n",
    "file_y_train.close()"
   ]
  },
  {
   "cell_type": "code",
   "execution_count": 11,
   "metadata": {},
   "outputs": [],
   "source": [
    "file_x_test = open('data/x_test.csv', 'w')\n",
    "file_x_test.write('player_id,tournament_id,question_id\\n')\n",
    "\n",
    "file_y_test = open('data/y_test.csv', 'w')\n",
    "file_y_test.write('hit\\n')\n",
    "\n",
    "for tournament_id in valid_test_results:\n",
    "    tournament = valid_test_results[tournament_id]\n",
    "    for team in tournament:\n",
    "        team_id = team['team']['id']\n",
    "        for teammate in team['teamMembers']:\n",
    "            player_id = teammate['player']['id']\n",
    "            for question_id in range(1, len(team['mask']) + 1):\n",
    "                file_x_test.write(str(player_id) + ',' + str(tournament_id) + ',' + str(question_id) + ',' + str(team_id) + '\\n')\n",
    "                file_y_test.write(team['mask'][question_id - 1] + '\\n')\n",
    "\n",
    "file_x_test.close()\n",
    "file_y_test.close()"
   ]
  }
 ],
 "metadata": {
  "colab": {
   "collapsed_sections": [],
   "name": "Untitled1.ipynb",
   "provenance": []
  },
  "kernelspec": {
   "display_name": "Python 3",
   "language": "python",
   "name": "python3"
  },
  "language_info": {
   "codemirror_mode": {
    "name": "ipython",
    "version": 3
   },
   "file_extension": ".py",
   "mimetype": "text/x-python",
   "name": "python",
   "nbconvert_exporter": "python",
   "pygments_lexer": "ipython3",
   "version": "3.8.5"
  }
 },
 "nbformat": 4,
 "nbformat_minor": 1
}
