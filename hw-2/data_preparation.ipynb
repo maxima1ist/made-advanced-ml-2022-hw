{
 "cells": [
  {
   "cell_type": "code",
   "execution_count": 1,
   "metadata": {},
   "outputs": [
    {
     "name": "stdout",
     "output_type": "stream",
     "text": [
      "--2022-04-06 17:24:04--  https://www.dropbox.com/s/s4qj0fpsn378m2i/chgk.zip\n",
      "Resolving www.dropbox.com (www.dropbox.com)... 162.125.72.18, 2620:100:6026:18::a27d:4612\n",
      "Connecting to www.dropbox.com (www.dropbox.com)|162.125.72.18|:443... connected.\n",
      "HTTP request sent, awaiting response... 301 Moved Permanently\n",
      "Location: /s/raw/s4qj0fpsn378m2i/chgk.zip [following]\n",
      "--2022-04-06 17:24:04--  https://www.dropbox.com/s/raw/s4qj0fpsn378m2i/chgk.zip\n",
      "Reusing existing connection to www.dropbox.com:443.\n",
      "HTTP request sent, awaiting response... 302 Found\n",
      "Location: https://uc697226fd1b3cae15c35ae04b99.dl.dropboxusercontent.com/cd/0/inline/Bi4TwOyWPhWzHpCPOaEBHdq0RMvZn6eyKZ8IoR33QqlyvF0z2W8pefHHzHYNE-TLp9FAqL0vyx9ysTNAVpuwjmgDEjn0AGEICqSv6mukiCtQ3oT9Wj-z4UmAWXP7WwRAr6dSyz-9zeQdz0FIUcHBpos3RhOR76KEPjc9ApGC5nf8eA/file# [following]\n",
      "--2022-04-06 17:24:04--  https://uc697226fd1b3cae15c35ae04b99.dl.dropboxusercontent.com/cd/0/inline/Bi4TwOyWPhWzHpCPOaEBHdq0RMvZn6eyKZ8IoR33QqlyvF0z2W8pefHHzHYNE-TLp9FAqL0vyx9ysTNAVpuwjmgDEjn0AGEICqSv6mukiCtQ3oT9Wj-z4UmAWXP7WwRAr6dSyz-9zeQdz0FIUcHBpos3RhOR76KEPjc9ApGC5nf8eA/file\n",
      "Resolving uc697226fd1b3cae15c35ae04b99.dl.dropboxusercontent.com (uc697226fd1b3cae15c35ae04b99.dl.dropboxusercontent.com)... 162.125.72.15, 2620:100:6026:15::a27d:460f\n",
      "Connecting to uc697226fd1b3cae15c35ae04b99.dl.dropboxusercontent.com (uc697226fd1b3cae15c35ae04b99.dl.dropboxusercontent.com)|162.125.72.15|:443... connected.\n",
      "HTTP request sent, awaiting response... 302 Found\n",
      "Location: /cd/0/inline2/Bi55g0eddh_HKZCD3RXhK8Wjr_qCJ_rA2SnS_2qdepOU9x6WdIJarHZfWfs0SMBj6p14Y2600dokupyBnUZ1-lyDyVWTcdLgiaoiJeFAubvbs1sIiyaN9swtrb63RZbsbPbnJkJfVhdmX2svR4nVv9AOQ99dHqM1kqWaI3fDXMpVnZTnXLrBIHeQSVi7A2VtFB6wnPrTddEm4dPfWnsN2dRvybMD47MLknLtOaezIQjVSYutnePer8C_cj0R0dmIG3djxdUscIJEnByXB07PhpNM9TTq1L5xMTq2jy72T7n814XQVAlIr76hYmHVx1Hz51eYDFI9XU7FXeeoD-T7VM0Lf6TdRx6VqmZwQYH-Ftz-eHO0SRf3ZdWj6BqxrMGC2_ejosOUK48vRhpfQjCUFsc4AuuXYi64Pce4W5r8LeVu7g/file [following]\n",
      "--2022-04-06 17:24:05--  https://uc697226fd1b3cae15c35ae04b99.dl.dropboxusercontent.com/cd/0/inline2/Bi55g0eddh_HKZCD3RXhK8Wjr_qCJ_rA2SnS_2qdepOU9x6WdIJarHZfWfs0SMBj6p14Y2600dokupyBnUZ1-lyDyVWTcdLgiaoiJeFAubvbs1sIiyaN9swtrb63RZbsbPbnJkJfVhdmX2svR4nVv9AOQ99dHqM1kqWaI3fDXMpVnZTnXLrBIHeQSVi7A2VtFB6wnPrTddEm4dPfWnsN2dRvybMD47MLknLtOaezIQjVSYutnePer8C_cj0R0dmIG3djxdUscIJEnByXB07PhpNM9TTq1L5xMTq2jy72T7n814XQVAlIr76hYmHVx1Hz51eYDFI9XU7FXeeoD-T7VM0Lf6TdRx6VqmZwQYH-Ftz-eHO0SRf3ZdWj6BqxrMGC2_ejosOUK48vRhpfQjCUFsc4AuuXYi64Pce4W5r8LeVu7g/file\n",
      "Reusing existing connection to uc697226fd1b3cae15c35ae04b99.dl.dropboxusercontent.com:443.\n",
      "HTTP request sent, awaiting response... 200 OK\n",
      "Length: 176605878 (168M) [application/zip]\n",
      "Saving to: ‘./data/chgk.zip’\n",
      "\n",
      "./data/chgk.zip     100%[===================>] 168.42M  7.45MB/s    in 23s     \n",
      "\n",
      "2022-04-06 17:24:29 (7.22 MB/s) - ‘./data/chgk.zip’ saved [176605878/176605878]\n",
      "\n"
     ]
    }
   ],
   "source": [
    "!mkdir data\n",
    "!wget https://www.dropbox.com/s/s4qj0fpsn378m2i/chgk.zip -O ./data/chgk.zip"
   ]
  },
  {
   "cell_type": "code",
   "execution_count": 2,
   "metadata": {},
   "outputs": [],
   "source": [
    "import pandas as pd\n",
    "import utils"
   ]
  },
  {
   "cell_type": "code",
   "execution_count": 3,
   "metadata": {},
   "outputs": [],
   "source": [
    "DATA_PATH = \"data/\""
   ]
  },
  {
   "cell_type": "code",
   "execution_count": 4,
   "metadata": {},
   "outputs": [],
   "source": [
    "utils.unzip(DATA_PATH + \"chgk.zip\", DATA_PATH)"
   ]
  },
  {
   "cell_type": "code",
   "execution_count": 5,
   "metadata": {},
   "outputs": [
    {
     "name": "stderr",
     "output_type": "stream",
     "text": [
      "/home/maksim.stsiapura/Banch/MADE/made-advanced-ml-2022-hw/py3ve/lib/python3.10/site-packages/pandas/core/indexes/base.py:6982: FutureWarning: In a future version, the Index constructor will not infer numeric dtypes when passed object-dtype sequences (matching Series behavior)\n",
      "  return Index(sequences[0], name=names)\n",
      "/home/maksim.stsiapura/Banch/MADE/made-advanced-ml-2022-hw/py3ve/lib/python3.10/site-packages/pandas/core/indexes/base.py:6982: FutureWarning: In a future version, the Index constructor will not infer numeric dtypes when passed object-dtype sequences (matching Series behavior)\n",
      "  return Index(sequences[0], name=names)\n"
     ]
    }
   ],
   "source": [
    "players = (pd.DataFrame.from_dict(pd.read_pickle(DATA_PATH + \"players.pkl\")).T).set_index(\"id\")\n",
    "results = pd.read_pickle(DATA_PATH + \"results.pkl\")\n",
    "tournaments = (pd.DataFrame.from_dict(pd.read_pickle(DATA_PATH + \"tournaments.pkl\")).T).set_index(\"id\")"
   ]
  },
  {
   "cell_type": "code",
   "execution_count": 6,
   "metadata": {},
   "outputs": [
    {
     "data": {
      "text/html": [
       "<div>\n",
       "<style scoped>\n",
       "    .dataframe tbody tr th:only-of-type {\n",
       "        vertical-align: middle;\n",
       "    }\n",
       "\n",
       "    .dataframe tbody tr th {\n",
       "        vertical-align: top;\n",
       "    }\n",
       "\n",
       "    .dataframe thead th {\n",
       "        text-align: right;\n",
       "    }\n",
       "</style>\n",
       "<table border=\"1\" class=\"dataframe\">\n",
       "  <thead>\n",
       "    <tr style=\"text-align: right;\">\n",
       "      <th></th>\n",
       "      <th>name</th>\n",
       "      <th>patronymic</th>\n",
       "      <th>surname</th>\n",
       "    </tr>\n",
       "    <tr>\n",
       "      <th>id</th>\n",
       "      <th></th>\n",
       "      <th></th>\n",
       "      <th></th>\n",
       "    </tr>\n",
       "  </thead>\n",
       "  <tbody>\n",
       "    <tr>\n",
       "      <th>1</th>\n",
       "      <td>Алексей</td>\n",
       "      <td>None</td>\n",
       "      <td>Абабилов</td>\n",
       "    </tr>\n",
       "    <tr>\n",
       "      <th>10</th>\n",
       "      <td>Игорь</td>\n",
       "      <td></td>\n",
       "      <td>Абалов</td>\n",
       "    </tr>\n",
       "    <tr>\n",
       "      <th>11</th>\n",
       "      <td>Наталья</td>\n",
       "      <td>Юрьевна</td>\n",
       "      <td>Абалымова</td>\n",
       "    </tr>\n",
       "    <tr>\n",
       "      <th>12</th>\n",
       "      <td>Артур</td>\n",
       "      <td>Евгеньевич</td>\n",
       "      <td>Абальян</td>\n",
       "    </tr>\n",
       "    <tr>\n",
       "      <th>13</th>\n",
       "      <td>Эрик</td>\n",
       "      <td>Евгеньевич</td>\n",
       "      <td>Абальян</td>\n",
       "    </tr>\n",
       "  </tbody>\n",
       "</table>\n",
       "</div>"
      ],
      "text/plain": [
       "       name  patronymic    surname\n",
       "id                                \n",
       "1   Алексей        None   Абабилов\n",
       "10    Игорь                 Абалов\n",
       "11  Наталья     Юрьевна  Абалымова\n",
       "12    Артур  Евгеньевич    Абальян\n",
       "13     Эрик  Евгеньевич    Абальян"
      ]
     },
     "execution_count": 6,
     "metadata": {},
     "output_type": "execute_result"
    }
   ],
   "source": [
    "players.head()"
   ]
  },
  {
   "cell_type": "code",
   "execution_count": 7,
   "metadata": {},
   "outputs": [
    {
     "data": {
      "text/html": [
       "<div>\n",
       "<style scoped>\n",
       "    .dataframe tbody tr th:only-of-type {\n",
       "        vertical-align: middle;\n",
       "    }\n",
       "\n",
       "    .dataframe tbody tr th {\n",
       "        vertical-align: top;\n",
       "    }\n",
       "\n",
       "    .dataframe thead th {\n",
       "        text-align: right;\n",
       "    }\n",
       "</style>\n",
       "<table border=\"1\" class=\"dataframe\">\n",
       "  <thead>\n",
       "    <tr style=\"text-align: right;\">\n",
       "      <th></th>\n",
       "      <th>name</th>\n",
       "      <th>dateStart</th>\n",
       "      <th>dateEnd</th>\n",
       "      <th>type</th>\n",
       "      <th>season</th>\n",
       "      <th>orgcommittee</th>\n",
       "      <th>synchData</th>\n",
       "      <th>questionQty</th>\n",
       "    </tr>\n",
       "    <tr>\n",
       "      <th>id</th>\n",
       "      <th></th>\n",
       "      <th></th>\n",
       "      <th></th>\n",
       "      <th></th>\n",
       "      <th></th>\n",
       "      <th></th>\n",
       "      <th></th>\n",
       "      <th></th>\n",
       "    </tr>\n",
       "  </thead>\n",
       "  <tbody>\n",
       "    <tr>\n",
       "      <th>1</th>\n",
       "      <td>Чемпионат Южного Кавказа</td>\n",
       "      <td>2003-07-25T00:00:00+04:00</td>\n",
       "      <td>2003-07-27T00:00:00+04:00</td>\n",
       "      <td>{'id': 2, 'name': 'Обычный'}</td>\n",
       "      <td>/seasons/1</td>\n",
       "      <td>[]</td>\n",
       "      <td>None</td>\n",
       "      <td>None</td>\n",
       "    </tr>\n",
       "    <tr>\n",
       "      <th>2</th>\n",
       "      <td>Летние зори</td>\n",
       "      <td>2003-08-09T00:00:00+04:00</td>\n",
       "      <td>2003-08-09T00:00:00+04:00</td>\n",
       "      <td>{'id': 2, 'name': 'Обычный'}</td>\n",
       "      <td>/seasons/1</td>\n",
       "      <td>[]</td>\n",
       "      <td>None</td>\n",
       "      <td>None</td>\n",
       "    </tr>\n",
       "    <tr>\n",
       "      <th>3</th>\n",
       "      <td>Турнир в Ижевске</td>\n",
       "      <td>2003-11-22T00:00:00+03:00</td>\n",
       "      <td>2003-11-24T00:00:00+03:00</td>\n",
       "      <td>{'id': 2, 'name': 'Обычный'}</td>\n",
       "      <td>/seasons/2</td>\n",
       "      <td>[]</td>\n",
       "      <td>None</td>\n",
       "      <td>None</td>\n",
       "    </tr>\n",
       "    <tr>\n",
       "      <th>4</th>\n",
       "      <td>Чемпионат Украины. Переходной этап</td>\n",
       "      <td>2003-10-11T00:00:00+04:00</td>\n",
       "      <td>2003-10-12T00:00:00+04:00</td>\n",
       "      <td>{'id': 2, 'name': 'Обычный'}</td>\n",
       "      <td>/seasons/2</td>\n",
       "      <td>[]</td>\n",
       "      <td>None</td>\n",
       "      <td>None</td>\n",
       "    </tr>\n",
       "    <tr>\n",
       "      <th>5</th>\n",
       "      <td>Бостонское чаепитие</td>\n",
       "      <td>2003-10-10T00:00:00+04:00</td>\n",
       "      <td>2003-10-13T00:00:00+04:00</td>\n",
       "      <td>{'id': 2, 'name': 'Обычный'}</td>\n",
       "      <td>/seasons/2</td>\n",
       "      <td>[]</td>\n",
       "      <td>None</td>\n",
       "      <td>None</td>\n",
       "    </tr>\n",
       "  </tbody>\n",
       "</table>\n",
       "</div>"
      ],
      "text/plain": [
       "                                  name                  dateStart  \\\n",
       "id                                                                  \n",
       "1             Чемпионат Южного Кавказа  2003-07-25T00:00:00+04:00   \n",
       "2                          Летние зори  2003-08-09T00:00:00+04:00   \n",
       "3                     Турнир в Ижевске  2003-11-22T00:00:00+03:00   \n",
       "4   Чемпионат Украины. Переходной этап  2003-10-11T00:00:00+04:00   \n",
       "5                  Бостонское чаепитие  2003-10-10T00:00:00+04:00   \n",
       "\n",
       "                      dateEnd                          type      season  \\\n",
       "id                                                                        \n",
       "1   2003-07-27T00:00:00+04:00  {'id': 2, 'name': 'Обычный'}  /seasons/1   \n",
       "2   2003-08-09T00:00:00+04:00  {'id': 2, 'name': 'Обычный'}  /seasons/1   \n",
       "3   2003-11-24T00:00:00+03:00  {'id': 2, 'name': 'Обычный'}  /seasons/2   \n",
       "4   2003-10-12T00:00:00+04:00  {'id': 2, 'name': 'Обычный'}  /seasons/2   \n",
       "5   2003-10-13T00:00:00+04:00  {'id': 2, 'name': 'Обычный'}  /seasons/2   \n",
       "\n",
       "   orgcommittee synchData questionQty  \n",
       "id                                     \n",
       "1            []      None        None  \n",
       "2            []      None        None  \n",
       "3            []      None        None  \n",
       "4            []      None        None  \n",
       "5            []      None        None  "
      ]
     },
     "execution_count": 7,
     "metadata": {},
     "output_type": "execute_result"
    }
   ],
   "source": [
    "tournaments.head()"
   ]
  },
  {
   "cell_type": "code",
   "execution_count": 8,
   "metadata": {},
   "outputs": [],
   "source": [
    "tournament_results = []\n",
    "\n",
    "for (tournament_id, tournament_result) in results.items():\n",
    "    for team_result in tournament_result:\n",
    "        if \"mask\" in team_result and team_result[\"mask\"] != None:\n",
    "            if \"teamMembers\" in team_result and team_result[\"teamMembers\"]:\n",
    "                mask = team_result[\"mask\"]\n",
    "                team_members = team_result[\"teamMembers\"]\n",
    "                for member in team_members:\n",
    "                    tournament_results.append({\n",
    "                        \"tournament_id\" : tournament_id,\n",
    "                        \"player_id\" : member[\"player\"][\"id\"],\n",
    "                        \"mask\" : mask\n",
    "                    })"
   ]
  },
  {
   "cell_type": "code",
   "execution_count": 9,
   "metadata": {},
   "outputs": [],
   "source": [
    "tournament_results = pd.DataFrame(tournament_results)"
   ]
  },
  {
   "cell_type": "code",
   "execution_count": 10,
   "metadata": {},
   "outputs": [
    {
     "data": {
      "text/html": [
       "<div>\n",
       "<style scoped>\n",
       "    .dataframe tbody tr th:only-of-type {\n",
       "        vertical-align: middle;\n",
       "    }\n",
       "\n",
       "    .dataframe tbody tr th {\n",
       "        vertical-align: top;\n",
       "    }\n",
       "\n",
       "    .dataframe thead th {\n",
       "        text-align: right;\n",
       "    }\n",
       "</style>\n",
       "<table border=\"1\" class=\"dataframe\">\n",
       "  <thead>\n",
       "    <tr style=\"text-align: right;\">\n",
       "      <th></th>\n",
       "      <th>tournament_id</th>\n",
       "      <th>player_id</th>\n",
       "      <th>mask</th>\n",
       "    </tr>\n",
       "  </thead>\n",
       "  <tbody>\n",
       "    <tr>\n",
       "      <th>0</th>\n",
       "      <td>22</td>\n",
       "      <td>1560</td>\n",
       "      <td>0111011101101110001101110011111111110011111100...</td>\n",
       "    </tr>\n",
       "    <tr>\n",
       "      <th>1</th>\n",
       "      <td>22</td>\n",
       "      <td>2935</td>\n",
       "      <td>0111011101101110001101110011111111110011111100...</td>\n",
       "    </tr>\n",
       "    <tr>\n",
       "      <th>2</th>\n",
       "      <td>22</td>\n",
       "      <td>3270</td>\n",
       "      <td>0111011101101110001101110011111111110011111100...</td>\n",
       "    </tr>\n",
       "    <tr>\n",
       "      <th>3</th>\n",
       "      <td>22</td>\n",
       "      <td>4878</td>\n",
       "      <td>0111011101101110001101110011111111110011111100...</td>\n",
       "    </tr>\n",
       "    <tr>\n",
       "      <th>4</th>\n",
       "      <td>22</td>\n",
       "      <td>18935</td>\n",
       "      <td>0111011101101110001101110011111111110011111100...</td>\n",
       "    </tr>\n",
       "  </tbody>\n",
       "</table>\n",
       "</div>"
      ],
      "text/plain": [
       "   tournament_id  player_id                                               mask\n",
       "0             22       1560  0111011101101110001101110011111111110011111100...\n",
       "1             22       2935  0111011101101110001101110011111111110011111100...\n",
       "2             22       3270  0111011101101110001101110011111111110011111100...\n",
       "3             22       4878  0111011101101110001101110011111111110011111100...\n",
       "4             22      18935  0111011101101110001101110011111111110011111100..."
      ]
     },
     "execution_count": 10,
     "metadata": {},
     "output_type": "execute_result"
    }
   ],
   "source": [
    "tournament_results.head()"
   ]
  },
  {
   "cell_type": "code",
   "execution_count": 11,
   "metadata": {},
   "outputs": [],
   "source": [
    "tournament_results.to_csv(DATA_PATH + \"tournament_results.csv\")"
   ]
  }
 ],
 "metadata": {
  "interpreter": {
   "hash": "5bcb2615f200feb6c27a7140287aab0d54548453a80b58e033f8db7eb8aeca8d"
  },
  "kernelspec": {
   "display_name": "Python 3.8.10 ('py3ve': venv)",
   "language": "python",
   "name": "python3"
  },
  "language_info": {
   "codemirror_mode": {
    "name": "ipython",
    "version": 3
   },
   "file_extension": ".py",
   "mimetype": "text/x-python",
   "name": "python",
   "nbconvert_exporter": "python",
   "pygments_lexer": "ipython3",
   "version": "3.10.4"
  },
  "orig_nbformat": 4
 },
 "nbformat": 4,
 "nbformat_minor": 2
}
